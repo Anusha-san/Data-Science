{
  "nbformat": 4,
  "nbformat_minor": 0,
  "metadata": {
    "colab": {
      "provenance": [],
      "include_colab_link": true
    },
    "kernelspec": {
      "name": "python3",
      "display_name": "Python 3"
    },
    "language_info": {
      "name": "python"
    }
  },
  "cells": [
    {
      "cell_type": "markdown",
      "metadata": {
        "id": "view-in-github",
        "colab_type": "text"
      },
      "source": [
        "<a href=\"https://colab.research.google.com/github/Anusha-san/Data-Science/blob/main/Practice_Excercise_1.ipynb\" target=\"_parent\"><img src=\"https://colab.research.google.com/assets/colab-badge.svg\" alt=\"Open In Colab\"/></a>"
      ]
    },
    {
      "cell_type": "markdown",
      "source": [
        "Solve these questions own your own and try to test yourself what you have learned in the session.\n",
        "\n",
        "Happy Learning!\n"
      ],
      "metadata": {
        "id": "ymP6CEvcgy1U"
      }
    },
    {
      "cell_type": "markdown",
      "source": [
        "Q1 :- Write a program that will convert celsius value to fahrenheit.\n"
      ],
      "metadata": {
        "id": "CIIr00c2g7eO"
      }
    },
    {
      "cell_type": "code",
      "source": [
        "c = float(input(\"Enter temperature in celsius: \"))\n",
        "fahrenheit = (c * 1.8) + 32\n",
        "print(str(c)+ \" degree Celsius is equal to \" + str(fahrenheit )+ \" degree Fahrenheit.\")\n"
      ],
      "metadata": {
        "id": "4L2MFz7Ug2B0",
        "colab": {
          "base_uri": "https://localhost:8080/"
        },
        "outputId": "7a3a1722-80a7-44ee-a187-b602ab449c03"
      },
      "execution_count": null,
      "outputs": [
        {
          "output_type": "stream",
          "name": "stdout",
          "text": [
            "Enter temperature in celsius: 45\n",
            "45.0 degree Celsius is equal to 113.0 degree Fahrenheit.\n"
          ]
        }
      ]
    },
    {
      "cell_type": "markdown",
      "source": [
        "Q2:- Take 2 numbers as input from the user.Write a program to swap the numbers without using any special python syntax."
      ],
      "metadata": {
        "id": "nY_eMshJhOt0"
      }
    },
    {
      "cell_type": "code",
      "source": [
        "\n",
        "x = input('Enter value of x: ')\n",
        "y = input('Enter value of y: ')\n",
        "\n",
        "temp = x\n",
        "x = y\n",
        "y = temp\n",
        "\n",
        "print('The value of x after swapping: {}'.format(x))\n",
        "print('The value of y after swapping: {}'.format(y))\n"
      ],
      "metadata": {
        "id": "rnAFFFEUg2GE",
        "colab": {
          "base_uri": "https://localhost:8080/"
        },
        "outputId": "b9e7d35d-3ccf-42cd-b58e-401f11a8c34e"
      },
      "execution_count": null,
      "outputs": [
        {
          "output_type": "stream",
          "name": "stdout",
          "text": [
            "Enter value of x: 5\n",
            "Enter value of y: 8\n",
            "The value of x after swapping: 8\n",
            "The value of y after swapping: 5\n"
          ]
        }
      ]
    },
    {
      "cell_type": "markdown",
      "source": [
        "Q3:- Write a program to find the simple interest when the value of principle,rate of interest and time period is provided by the user."
      ],
      "metadata": {
        "id": "9-rcErZYhTvU"
      }
    },
    {
      "cell_type": "code",
      "source": [
        "\n",
        "Amount = int(input(\"Enter the amount: \"))\n",
        "Year = int(input(\"Enter the number of years: \"))\n",
        "Rate = float(input(\"Enter the rate of interest: \"))\n",
        "\n",
        "SimpleInterset = (Amount*Year*Rate)/100\n",
        "\n",
        "print(\"The simple interset is:\", SimpleInterset)\n"
      ],
      "metadata": {
        "id": "DXJ1_Igtg2Jb",
        "colab": {
          "base_uri": "https://localhost:8080/"
        },
        "outputId": "709ebb7f-880a-41c0-8892-889be02e79b2"
      },
      "execution_count": null,
      "outputs": [
        {
          "output_type": "stream",
          "name": "stdout",
          "text": [
            "Enter the amount: 20000\n",
            "Enter the number of years: 3\n",
            "Enter the rate of interest: 10\n",
            "The simple interset is: 6000.0\n"
          ]
        }
      ]
    },
    {
      "cell_type": "markdown",
      "source": [
        "Q4:- Write a program that will tell the number of dogs and chicken are there when the user will provide the value of total heads and legs.\n",
        "\n",
        "For example:\n",
        "\n",
        "Input: heads -> 4 legs -> 12\n",
        "\n",
        "Output: dogs -> 2 chicken -> 2"
      ],
      "metadata": {
        "id": "pOc2PRp7haM8"
      }
    },
    {
      "cell_type": "code",
      "source": [
        "#put your code here"
      ],
      "metadata": {
        "id": "MfODD3pGg2MG"
      },
      "execution_count": null,
      "outputs": []
    },
    {
      "cell_type": "markdown",
      "source": [
        "Q5:- Write a program to find the sum of squares of first n natural numbers where n will be provided by the user."
      ],
      "metadata": {
        "id": "IAqMrvi3hiyd"
      }
    },
    {
      "cell_type": "code",
      "source": [
        "def sumOfSquares(n) :\n",
        "    if n < 0:\n",
        "        return\n",
        "    sum = 0\n",
        "    for i in range(n+1):\n",
        "        sum += i*i\n",
        "    return sum\n",
        "\n",
        "n = int(input('Enter n : '))\n",
        "sum = sumOfSquares(n)\n",
        "print(f'Sum : {sum}')"
      ],
      "metadata": {
        "id": "2zX-LtaHg2RF",
        "colab": {
          "base_uri": "https://localhost:8080/"
        },
        "outputId": "db062edb-9d67-4f57-f3ea-e77c7ed2a87a"
      },
      "execution_count": null,
      "outputs": [
        {
          "output_type": "stream",
          "name": "stdout",
          "text": [
            "Enter n : 10\n",
            "Sum : 385\n"
          ]
        }
      ]
    },
    {
      "cell_type": "markdown",
      "source": [
        "Q6:- Display Fibonacci series up to 10 terms.\n",
        "Note: The Fibonacci Sequence is a series of numbers. The next number is found by adding up the two numbers before it. The first two numbers are 0 and 1. For example, 0, 1, 1, 2, 3, 5, 8, 13, 21. The next number in this series above is 13+21 = 34"
      ],
      "metadata": {
        "id": "J7zGnlD5h3U7"
      }
    },
    {
      "cell_type": "code",
      "source": [
        "\n",
        "a, b = 0, 1\n",
        "\n",
        "for i in range(10):\n",
        "    print(a, end=' ')\n",
        "    a, b = b, a + b\n"
      ],
      "metadata": {
        "id": "Xi4sUEQ_g2T_",
        "colab": {
          "base_uri": "https://localhost:8080/"
        },
        "outputId": "e0501204-b4c8-47b9-efe4-38205600cef4"
      },
      "execution_count": null,
      "outputs": [
        {
          "output_type": "stream",
          "name": "stdout",
          "text": [
            "0 1 1 2 3 5 8 13 21 34 "
          ]
        }
      ]
    },
    {
      "cell_type": "markdown",
      "source": [
        "Q7:-Reverse a given integer number.\n"
      ],
      "metadata": {
        "id": "lOGV2wsoiAx7"
      }
    },
    {
      "cell_type": "code",
      "source": [
        "num = int(input(\"Enter an integer number: \")) \n",
        "\n",
        "rev = 0 \n",
        "\n",
        "while num > 0:\n",
        "    rev = rev * 10 + num % 10  \n",
        "    num = num // 10  \n",
        "\n",
        "print(\"The reversed number is:\", rev)\n"
      ],
      "metadata": {
        "id": "flEhcLImiJJD",
        "colab": {
          "base_uri": "https://localhost:8080/"
        },
        "outputId": "4cde9e66-a8ed-457b-98b1-0b0f9967f308"
      },
      "execution_count": null,
      "outputs": [
        {
          "output_type": "stream",
          "name": "stdout",
          "text": [
            "Enter an integer number: 56\n",
            "The reversed number is: 65\n"
          ]
        }
      ]
    },
    {
      "cell_type": "markdown",
      "source": [
        "Q8:-Write a program which will find all such numbers which are divisible by 7 but are not a multiple of 5, between 2000 and 3200 (both included). The numbers obtained should be printed in a comma-separated sequence on a single line."
      ],
      "metadata": {
        "id": "3jan4X1ziLJ7"
      }
    },
    {
      "cell_type": "code",
      "source": [
        "result = []  \n",
        "for i in range(2000, 3201):\n",
        "    if (i % 7 == 0 and i % 5 != 0):\n",
        "        result.append(str(i))  \n",
        "print(','.join(result))\n"
      ],
      "metadata": {
        "id": "S1OFCV_qiKmr",
        "colab": {
          "base_uri": "https://localhost:8080/"
        },
        "outputId": "1b3f38e3-a8da-4abd-a121-12e205f65c8d"
      },
      "execution_count": null,
      "outputs": [
        {
          "output_type": "stream",
          "name": "stdout",
          "text": [
            "2002,2009,2016,2023,2037,2044,2051,2058,2072,2079,2086,2093,2107,2114,2121,2128,2142,2149,2156,2163,2177,2184,2191,2198,2212,2219,2226,2233,2247,2254,2261,2268,2282,2289,2296,2303,2317,2324,2331,2338,2352,2359,2366,2373,2387,2394,2401,2408,2422,2429,2436,2443,2457,2464,2471,2478,2492,2499,2506,2513,2527,2534,2541,2548,2562,2569,2576,2583,2597,2604,2611,2618,2632,2639,2646,2653,2667,2674,2681,2688,2702,2709,2716,2723,2737,2744,2751,2758,2772,2779,2786,2793,2807,2814,2821,2828,2842,2849,2856,2863,2877,2884,2891,2898,2912,2919,2926,2933,2947,2954,2961,2968,2982,2989,2996,3003,3017,3024,3031,3038,3052,3059,3066,3073,3087,3094,3101,3108,3122,3129,3136,3143,3157,3164,3171,3178,3192,3199\n"
          ]
        }
      ]
    },
    {
      "cell_type": "markdown",
      "source": [
        "### `Problem 1` - Print the following pattern. Write a program to use for loop to print the following reverse number pattern.\n",
        "\n",
        "```bash\n",
        "5 4 3 2 1 \n",
        "4 3 2 1 \n",
        "3 2 1 \n",
        "2 1 \n",
        "1\n",
        "```"
      ],
      "metadata": {
        "id": "7pvyyKlpizrs"
      }
    },
    {
      "cell_type": "code",
      "source": [
        "for i in range(5, 0, -1): \n",
        "    for j in range(i, 0, -1):  \n",
        "        print(j, end=' ')  \n",
        "    print() \n"
      ],
      "metadata": {
        "id": "T4jL00-qiKpa",
        "colab": {
          "base_uri": "https://localhost:8080/"
        },
        "outputId": "0cbb7ec7-3562-40d9-8e7a-ecda672bf99e"
      },
      "execution_count": null,
      "outputs": [
        {
          "output_type": "stream",
          "name": "stdout",
          "text": [
            "5 4 3 2 1 \n",
            "4 3 2 1 \n",
            "3 2 1 \n",
            "2 1 \n",
            "1 \n"
          ]
        }
      ]
    },
    {
      "cell_type": "markdown",
      "source": [
        "### `Problem 2`: Print the following pattern.\n",
        "\n",
        "```bash\n",
        "* \n",
        "* * \n",
        "* * * \n",
        "* * * * \n",
        "* * * * * \n",
        "* * * * \n",
        "* * * \n",
        "* * \n",
        "*\n",
        "```"
      ],
      "metadata": {
        "id": "_NsL7d9gi_Tk"
      }
    },
    {
      "cell_type": "code",
      "source": [
        "for i in range(1, 6): \n",
        "    print('* ' * i) \n",
        "for i in range(4, 0, -1): \n",
        "    print('* ' * i) \n"
      ],
      "metadata": {
        "id": "j33RjaW4jBQs",
        "colab": {
          "base_uri": "https://localhost:8080/"
        },
        "outputId": "0047f4a9-19e4-460d-a102-66e189db1ad7"
      },
      "execution_count": null,
      "outputs": [
        {
          "output_type": "stream",
          "name": "stdout",
          "text": [
            "* \n",
            "* * \n",
            "* * * \n",
            "* * * * \n",
            "* * * * * \n",
            "* * * * \n",
            "* * * \n",
            "* * \n",
            "* \n"
          ]
        }
      ]
    },
    {
      "cell_type": "markdown",
      "source": [
        "###`Problem 3`: Write a program to print all the unique combinations of 1,2,3 and 4 \n",
        "\n",
        "`Output`:\n",
        "```\n",
        "1 2 3 4\n",
        "1 2 4 3\n",
        "1 3 2 4\n",
        "1 3 4 2\n",
        "1 4 2 3\n",
        "1 4 3 2\n",
        "2 1 3 4\n",
        "2 1 4 3\n",
        "2 3 1 4\n",
        "2 3 4 1\n",
        "2 4 1 3\n",
        ".\n",
        ".\n",
        "and so on\n",
        "```"
      ],
      "metadata": {
        "id": "MC9k3Cf1jCJ8"
      }
    },
    {
      "cell_type": "code",
      "source": [
        "#put your code here"
      ],
      "metadata": {
        "id": "U9WvvRHcjJR1"
      },
      "execution_count": null,
      "outputs": []
    },
    {
      "cell_type": "markdown",
      "source": [
        "### **`Problem-4:`** Write a Python function that takes a list and returns a new list with unique elements of the first list.\n",
        "\n",
        "**Exercise 1:**\n",
        "\n",
        "Input:\n",
        "\n",
        "```bash\n",
        "[1,2,3,3,3,3,4,5]\n",
        "```\n",
        "\n",
        "Output:\n",
        "\n",
        "```bash\n",
        "[1, 2, 3, 4, 5]\n",
        "```"
      ],
      "metadata": {
        "id": "SDmNI4RqjLsO"
      }
    },
    {
      "cell_type": "code",
      "source": [
        "\n"
      ],
      "metadata": {
        "id": "ZDgaA4sxjamr"
      },
      "execution_count": null,
      "outputs": []
    },
    {
      "cell_type": "markdown",
      "source": [
        "### **`Problem 5:`** Write a Python function that accepts a string and calculate the number of upper case letters and lower case letters.\n",
        "\n",
        "```\n",
        "Sample String : 'CampusX is an Online Mentorship Program fOr EnginEering studentS.'\n",
        "Expected Output :\n",
        "No. of Upper case characters :  9\n",
        "No. of Lower case Characters :  47\n",
        "```"
      ],
      "metadata": {
        "id": "RESHBy7mjdDM"
      }
    },
    {
      "cell_type": "code",
      "source": [
        "#put your code here"
      ],
      "metadata": {
        "id": "OmtzG9mdjh2b"
      },
      "execution_count": null,
      "outputs": []
    },
    {
      "cell_type": "markdown",
      "source": [
        "### **`Problem 6:`** Write a Python program to print the even numbers from a given list.\n",
        "```\n",
        "Sample List : [1, 2, 3, 4, 5, 6, 7, 8, 9]\n",
        "Expected Result : [2, 4, 6, 8]\n",
        "```"
      ],
      "metadata": {
        "id": "h0tQ34ATjjYM"
      }
    },
    {
      "cell_type": "code",
      "source": [
        "l1=[1,2,3,4,5,6,7,8,9,10]\n",
        "l2=[]\n",
        "for i in l1:\n",
        "  if i%2==0:\n",
        "    l2.append(i)\n",
        "print(l2)"
      ],
      "metadata": {
        "id": "66Rox98VjmjN",
        "colab": {
          "base_uri": "https://localhost:8080/"
        },
        "outputId": "a54c9472-b531-4f57-c69d-9514117220be"
      },
      "execution_count": null,
      "outputs": [
        {
          "output_type": "stream",
          "name": "stdout",
          "text": [
            "[2, 4, 6, 8, 10]\n"
          ]
        }
      ]
    },
    {
      "cell_type": "code",
      "source": [],
      "metadata": {
        "id": "YV-enSM-VIzP"
      },
      "execution_count": null,
      "outputs": []
    }
  ]
}