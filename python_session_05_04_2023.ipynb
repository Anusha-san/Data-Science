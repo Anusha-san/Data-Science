{
  "nbformat": 4,
  "nbformat_minor": 0,
  "metadata": {
    "colab": {
      "provenance": [],
      "include_colab_link": true
    },
    "kernelspec": {
      "name": "python3",
      "display_name": "Python 3"
    },
    "language_info": {
      "name": "python"
    }
  },
  "cells": [
    {
      "cell_type": "markdown",
      "metadata": {
        "id": "view-in-github",
        "colab_type": "text"
      },
      "source": [
        "<a href=\"https://colab.research.google.com/github/Anusha-san/Data-Science/blob/main/python_session_05_04_2023.ipynb\" target=\"_parent\"><img src=\"https://colab.research.google.com/assets/colab-badge.svg\" alt=\"Open In Colab\"/></a>"
      ]
    },
    {
      "cell_type": "code",
      "execution_count": null,
      "metadata": {
        "colab": {
          "base_uri": "https://localhost:8080/"
        },
        "id": "85wu_cDEeZcp",
        "outputId": "6d94f819-e612-4a53-dbff-03110d790493"
      },
      "outputs": [
        {
          "output_type": "stream",
          "name": "stdout",
          "text": [
            "<class 'int'>\n"
          ]
        }
      ],
      "source": [
        "#integer\n",
        "\n",
        "a = 2\n",
        "print(type(a))\n"
      ]
    },
    {
      "cell_type": "code",
      "source": [
        "#float\n",
        "\n",
        "b = 2.4\n",
        "\n",
        "print(type(b))\n",
        "\n",
        "print(b)"
      ],
      "metadata": {
        "colab": {
          "base_uri": "https://localhost:8080/"
        },
        "id": "cZtTxWaUjD5u",
        "outputId": "b98efea1-8f08-4cb1-f9ec-0a8a9baa7693"
      },
      "execution_count": null,
      "outputs": [
        {
          "output_type": "stream",
          "name": "stdout",
          "text": [
            "<class 'float'>\n",
            "2.4\n"
          ]
        }
      ]
    },
    {
      "cell_type": "code",
      "source": [
        "#string\n",
        "\n",
        "c = 'feuchr'\n",
        "d = \"class\"\n",
        "\n",
        "e = '''my name is avi'''\n",
        "\n",
        "print(d)"
      ],
      "metadata": {
        "colab": {
          "base_uri": "https://localhost:8080/"
        },
        "id": "1iG3wllojPri",
        "outputId": "04cf056a-4825-416c-da11-360cd29671c2"
      },
      "execution_count": null,
      "outputs": [
        {
          "output_type": "stream",
          "name": "stdout",
          "text": [
            "class\n"
          ]
        }
      ]
    },
    {
      "cell_type": "code",
      "source": [
        "#boolen\n",
        "\n",
        "a = True \n",
        "print(a)"
      ],
      "metadata": {
        "colab": {
          "base_uri": "https://localhost:8080/"
        },
        "id": "k4sMqKy1jPue",
        "outputId": "99d04a40-2be2-4df7-84ec-d031bda5230a"
      },
      "execution_count": null,
      "outputs": [
        {
          "output_type": "stream",
          "name": "stdout",
          "text": [
            "True\n"
          ]
        }
      ]
    },
    {
      "cell_type": "code",
      "source": [
        "#complex\n",
        "\n",
        "ab = 2+6j\n",
        "\n",
        "print(type(ab))\n"
      ],
      "metadata": {
        "colab": {
          "base_uri": "https://localhost:8080/"
        },
        "id": "YnBlA9QdjPwV",
        "outputId": "1669f046-1024-4810-c444-4319cd8b5dab"
      },
      "execution_count": null,
      "outputs": [
        {
          "output_type": "stream",
          "name": "stdout",
          "text": [
            "<class 'complex'>\n"
          ]
        }
      ]
    },
    {
      "cell_type": "code",
      "source": [
        "list1 = [1,2,3,4,5,'avi',2.3]\n",
        "\n",
        "print(list1)"
      ],
      "metadata": {
        "colab": {
          "base_uri": "https://localhost:8080/"
        },
        "id": "MUXwSwPGjPyp",
        "outputId": "eb621a25-f600-42c6-e27d-f84d94b8e0ac"
      },
      "execution_count": null,
      "outputs": [
        {
          "output_type": "stream",
          "name": "stdout",
          "text": [
            "[1, 2, 3, 4, 5, 'avi', 2.3]\n"
          ]
        }
      ]
    },
    {
      "cell_type": "code",
      "source": [
        "type(list1)"
      ],
      "metadata": {
        "colab": {
          "base_uri": "https://localhost:8080/"
        },
        "id": "zcjsjNZZjP0-",
        "outputId": "6d3d06df-ea99-4bb3-d5dc-d8a838de4295"
      },
      "execution_count": null,
      "outputs": [
        {
          "output_type": "execute_result",
          "data": {
            "text/plain": [
              "list"
            ]
          },
          "metadata": {},
          "execution_count": 25
        }
      ]
    },
    {
      "cell_type": "code",
      "source": [
        "list11 = [1,23,4,4]\n",
        "\n",
        "list2 = [2,3,4,5,[3,45]]\n",
        "\n",
        "\n",
        "list3 = [[[1,2],[3,4]]]"
      ],
      "metadata": {
        "id": "PprUq1ayjP4m"
      },
      "execution_count": null,
      "outputs": []
    },
    {
      "cell_type": "code",
      "source": [
        "print(list2)"
      ],
      "metadata": {
        "colab": {
          "base_uri": "https://localhost:8080/"
        },
        "id": "Ok3-NkWkp-vA",
        "outputId": "bc819e32-68fb-48ba-d652-bbfb35138a2e"
      },
      "execution_count": null,
      "outputs": [
        {
          "output_type": "stream",
          "name": "stdout",
          "text": [
            "[2, 3, 4, 5, [3, 45]]\n"
          ]
        }
      ]
    },
    {
      "cell_type": "code",
      "source": [
        "list3"
      ],
      "metadata": {
        "colab": {
          "base_uri": "https://localhost:8080/"
        },
        "id": "sqLzD80Ip-yb",
        "outputId": "9e554e95-8a3a-42a5-ca83-d09875ffb6ea"
      },
      "execution_count": null,
      "outputs": [
        {
          "output_type": "execute_result",
          "data": {
            "text/plain": [
              "[[[1, 2], [3, 4]]]"
            ]
          },
          "metadata": {},
          "execution_count": 33
        }
      ]
    },
    {
      "cell_type": "code",
      "source": [
        "list2 = [1,2,3,4,5,6,7,8,9]\n",
        "\n",
        "list2[3]\n",
        "\n",
        "list2[-1]"
      ],
      "metadata": {
        "colab": {
          "base_uri": "https://localhost:8080/"
        },
        "id": "db2TbNs-p-0d",
        "outputId": "315b602f-1509-4b1d-f58d-70c673561120"
      },
      "execution_count": null,
      "outputs": [
        {
          "output_type": "execute_result",
          "data": {
            "text/plain": [
              "9"
            ]
          },
          "metadata": {},
          "execution_count": 6
        }
      ]
    },
    {
      "cell_type": "code",
      "source": [
        "list2.append(23)"
      ],
      "metadata": {
        "id": "54Kxot4qp-2t"
      },
      "execution_count": null,
      "outputs": []
    },
    {
      "cell_type": "code",
      "source": [
        "list2"
      ],
      "metadata": {
        "colab": {
          "base_uri": "https://localhost:8080/"
        },
        "id": "fhzuIqB5p-6S",
        "outputId": "0f40066b-8380-46e3-bc65-5a011c4ed2d1"
      },
      "execution_count": null,
      "outputs": [
        {
          "output_type": "execute_result",
          "data": {
            "text/plain": [
              "[1, 2, 3, 4, 5, 6, 7, 8, 9, 23]"
            ]
          },
          "metadata": {},
          "execution_count": 8
        }
      ]
    },
    {
      "cell_type": "code",
      "source": [
        "list2.insert(1,10)"
      ],
      "metadata": {
        "id": "exp5j9jFsjFl"
      },
      "execution_count": null,
      "outputs": []
    },
    {
      "cell_type": "code",
      "source": [
        "list2"
      ],
      "metadata": {
        "colab": {
          "base_uri": "https://localhost:8080/"
        },
        "id": "EyWM63MVstLF",
        "outputId": "3fea9b33-8efd-401a-f1d1-b5f714cda720"
      },
      "execution_count": null,
      "outputs": [
        {
          "output_type": "execute_result",
          "data": {
            "text/plain": [
              "[1, 10, 2, 3, 4, 5, 6, 7, 8, 9, 23]"
            ]
          },
          "metadata": {},
          "execution_count": 40
        }
      ]
    },
    {
      "cell_type": "code",
      "source": [
        "list2[0:7:2]"
      ],
      "metadata": {
        "colab": {
          "base_uri": "https://localhost:8080/"
        },
        "id": "Nymaewoksu1c",
        "outputId": "dd420790-9906-417c-c8d8-a3a8ce98091d"
      },
      "execution_count": null,
      "outputs": [
        {
          "output_type": "execute_result",
          "data": {
            "text/plain": [
              "[1, 2, 4, 6]"
            ]
          },
          "metadata": {},
          "execution_count": 45
        }
      ]
    },
    {
      "cell_type": "code",
      "source": [
        "#operations\n",
        "\n",
        "l1 = [1,2,3]\n",
        "l2 = [5,6,7]\n",
        "\n",
        "#print(l1+l2)\n",
        "\n",
        "print(l1+l2)"
      ],
      "metadata": {
        "colab": {
          "base_uri": "https://localhost:8080/"
        },
        "id": "sIo84v34s9Q-",
        "outputId": "c25371de-f973-4622-edc5-142d44d1951e"
      },
      "execution_count": null,
      "outputs": [
        {
          "output_type": "stream",
          "name": "stdout",
          "text": [
            "[1, 2, 3, 5, 6, 7]\n"
          ]
        }
      ]
    },
    {
      "cell_type": "code",
      "source": [
        "/#functions\n",
        "\n",
        "l1 = [4,5,3,2,6]\n",
        "len(l1)\n",
        "min(l1)"
      ],
      "metadata": {
        "colab": {
          "base_uri": "https://localhost:8080/"
        },
        "id": "Farly1ksui9S",
        "outputId": "02bf0def-3b9c-4932-d61b-c0382a11c0a2"
      },
      "execution_count": null,
      "outputs": [
        {
          "output_type": "execute_result",
          "data": {
            "text/plain": [
              "2"
            ]
          },
          "metadata": {},
          "execution_count": 52
        }
      ]
    },
    {
      "cell_type": "code",
      "source": [
        "max(l1)"
      ],
      "metadata": {
        "colab": {
          "base_uri": "https://localhost:8080/"
        },
        "id": "-oEHRZM_vLsg",
        "outputId": "c0a05428-12cf-46f3-d899-0c46347791f8"
      },
      "execution_count": null,
      "outputs": [
        {
          "output_type": "execute_result",
          "data": {
            "text/plain": [
              "6"
            ]
          },
          "metadata": {},
          "execution_count": 53
        }
      ]
    },
    {
      "cell_type": "code",
      "source": [
        "sorted(l1)"
      ],
      "metadata": {
        "colab": {
          "base_uri": "https://localhost:8080/"
        },
        "id": "rh1SdtTbvTOh",
        "outputId": "c231d4c4-38d2-4fb2-9081-51f653d987ec"
      },
      "execution_count": null,
      "outputs": [
        {
          "output_type": "execute_result",
          "data": {
            "text/plain": [
              "[2, 3, 4, 5, 6]"
            ]
          },
          "metadata": {},
          "execution_count": 55
        }
      ]
    },
    {
      "cell_type": "code",
      "source": [
        "l = []\n",
        "\n",
        "for i in range(1,11):\n",
        "  l.append(i)\n",
        "print(l) \n"
      ],
      "metadata": {
        "colab": {
          "base_uri": "https://localhost:8080/"
        },
        "id": "hFHSzmU6vb_k",
        "outputId": "3c16c058-aad3-4fe2-c178-b721846d798d"
      },
      "execution_count": null,
      "outputs": [
        {
          "output_type": "stream",
          "name": "stdout",
          "text": [
            "[1, 2, 3, 4, 5, 6, 7, 8, 9, 10]\n"
          ]
        }
      ]
    },
    {
      "cell_type": "code",
      "source": [
        "l = [i for i in range(1,10)]\n",
        "\n",
        "print(l)"
      ],
      "metadata": {
        "colab": {
          "base_uri": "https://localhost:8080/"
        },
        "id": "jZtwg2h3wJ2q",
        "outputId": "e9752bec-1750-4843-8dc6-5de44beb1909"
      },
      "execution_count": null,
      "outputs": [
        {
          "output_type": "stream",
          "name": "stdout",
          "text": [
            "[1, 2, 3, 4, 5, 6, 7, 8, 9]\n"
          ]
        }
      ]
    },
    {
      "cell_type": "code",
      "source": [
        "v = [2,3,4]\n",
        "\n",
        "s =2\n",
        "l = [s*i for i in v]"
      ],
      "metadata": {
        "id": "zJrKm_PCxA3m"
      },
      "execution_count": null,
      "outputs": []
    },
    {
      "cell_type": "code",
      "source": [
        "l"
      ],
      "metadata": {
        "id": "fcwqDaIozqwW",
        "outputId": "e96b7f47-bd44-44b5-bb49-4e1ae19d4283",
        "colab": {
          "base_uri": "https://localhost:8080/"
        }
      },
      "execution_count": null,
      "outputs": [
        {
          "output_type": "execute_result",
          "data": {
            "text/plain": [
              "[4, 6, 8]"
            ]
          },
          "metadata": {},
          "execution_count": 63
        }
      ]
    },
    {
      "cell_type": "code",
      "source": [
        "#data types\n",
        "\n",
        "# # integer (1,2,34,5)\n",
        "# float( 1.3,4.5)\n",
        "# boolen(True and False)\n",
        "# string(\"hello\",'hello')\n",
        "# complex(7+8j)\n",
        "\n",
        "# containers\n",
        "# list\n",
        "# tuple\n",
        "# sets\n",
        "# dictonary"
      ],
      "metadata": {
        "id": "0ZMbA8pXzr2Q"
      },
      "execution_count": null,
      "outputs": []
    },
    {
      "cell_type": "code",
      "source": [
        "a = 'hello'\n",
        "print(type(a))"
      ],
      "metadata": {
        "colab": {
          "base_uri": "https://localhost:8080/"
        },
        "id": "-e6racJVveea",
        "outputId": "ca1e531d-1c3e-472e-a1ca-179f66b4a936"
      },
      "execution_count": null,
      "outputs": [
        {
          "output_type": "stream",
          "name": "stdout",
          "text": [
            "<class 'str'>\n"
          ]
        }
      ]
    },
    {
      "cell_type": "code",
      "source": [
        " b = [1,2,3,4,5]"
      ],
      "metadata": {
        "id": "fc9QtqcIvehR"
      },
      "execution_count": null,
      "outputs": []
    },
    {
      "cell_type": "code",
      "source": [
        "print(b)\n",
        "print(type(b))"
      ],
      "metadata": {
        "colab": {
          "base_uri": "https://localhost:8080/"
        },
        "id": "PVRwy1Kzvejn",
        "outputId": "82664ed2-942b-44a4-edc0-c82fea19c64d"
      },
      "execution_count": null,
      "outputs": [
        {
          "output_type": "stream",
          "name": "stdout",
          "text": [
            "[1, 2, 3, 4, 5]\n",
            "<class 'list'>\n"
          ]
        }
      ]
    },
    {
      "cell_type": "code",
      "source": [
        "b[0] #indexing\n",
        "\n",
        "b[0:4] #slicing"
      ],
      "metadata": {
        "colab": {
          "base_uri": "https://localhost:8080/"
        },
        "id": "JJVR1YQVvemD",
        "outputId": "9a676cbc-c0c9-4649-f22b-c3682176ec0a"
      },
      "execution_count": null,
      "outputs": [
        {
          "output_type": "execute_result",
          "data": {
            "text/plain": [
              "[1, 2, 3, 4]"
            ]
          },
          "metadata": {},
          "execution_count": 15
        }
      ]
    },
    {
      "cell_type": "code",
      "source": [
        "#indexing and slicing"
      ],
      "metadata": {
        "id": "2Pbonxj7veod"
      },
      "execution_count": null,
      "outputs": []
    },
    {
      "cell_type": "code",
      "source": [
        "b[-1]= 100"
      ],
      "metadata": {
        "id": "ScGQNlDiveq8"
      },
      "execution_count": null,
      "outputs": []
    },
    {
      "cell_type": "code",
      "source": [
        "b"
      ],
      "metadata": {
        "colab": {
          "base_uri": "https://localhost:8080/"
        },
        "id": "UegbcKaWvevN",
        "outputId": "4ce3b66f-25b6-4629-de1e-9f22710aece7"
      },
      "execution_count": null,
      "outputs": [
        {
          "output_type": "execute_result",
          "data": {
            "text/plain": [
              "[1, 2, 3, 4, 100]"
            ]
          },
          "metadata": {},
          "execution_count": 17
        }
      ]
    },
    {
      "cell_type": "code",
      "source": [
        "b.remove(4)"
      ],
      "metadata": {
        "id": "B676nXBLveyF"
      },
      "execution_count": null,
      "outputs": []
    },
    {
      "cell_type": "code",
      "source": [
        "b"
      ],
      "metadata": {
        "colab": {
          "base_uri": "https://localhost:8080/"
        },
        "id": "eLfnVoD0ve1b",
        "outputId": "870dd555-aecf-426d-a972-7b15d99a4563"
      },
      "execution_count": null,
      "outputs": [
        {
          "output_type": "execute_result",
          "data": {
            "text/plain": [
              "[1, 2, 3, 100]"
            ]
          },
          "metadata": {},
          "execution_count": 19
        }
      ]
    },
    {
      "cell_type": "code",
      "source": [
        "b.pop()"
      ],
      "metadata": {
        "colab": {
          "base_uri": "https://localhost:8080/"
        },
        "id": "PPcqb3Lpve-W",
        "outputId": "ef2563fd-2b30-4e44-fa4a-6e80336553f2"
      },
      "execution_count": null,
      "outputs": [
        {
          "output_type": "execute_result",
          "data": {
            "text/plain": [
              "100"
            ]
          },
          "metadata": {},
          "execution_count": 20
        }
      ]
    },
    {
      "cell_type": "code",
      "source": [
        "b"
      ],
      "metadata": {
        "colab": {
          "base_uri": "https://localhost:8080/"
        },
        "id": "hSv11UrK6CE0",
        "outputId": "edce43b8-ccb8-408a-a579-8538b2f8a068"
      },
      "execution_count": null,
      "outputs": [
        {
          "output_type": "execute_result",
          "data": {
            "text/plain": [
              "[1, 2, 3]"
            ]
          },
          "metadata": {},
          "execution_count": 21
        }
      ]
    },
    {
      "cell_type": "code",
      "source": [
        "b.clear()"
      ],
      "metadata": {
        "id": "op4S3NLm6DHb"
      },
      "execution_count": null,
      "outputs": []
    },
    {
      "cell_type": "code",
      "source": [
        "b"
      ],
      "metadata": {
        "colab": {
          "base_uri": "https://localhost:8080/"
        },
        "id": "uwqNzfaC6HLO",
        "outputId": "a713a6bb-2745-4f15-ea55-4eda67aee932"
      },
      "execution_count": null,
      "outputs": [
        {
          "output_type": "execute_result",
          "data": {
            "text/plain": [
              "[]"
            ]
          },
          "metadata": {},
          "execution_count": 23
        }
      ]
    },
    {
      "cell_type": "code",
      "source": [
        "b  = [4,5,3,2]\n",
        "\n",
        "len(b)\n",
        "min(b)\n",
        "max(b)\n",
        "sorted(b)\n"
      ],
      "metadata": {
        "colab": {
          "base_uri": "https://localhost:8080/"
        },
        "id": "SmW4LHMU6H_z",
        "outputId": "17432220-1eb7-40c4-ae0f-1b937a76a8f3"
      },
      "execution_count": null,
      "outputs": [
        {
          "output_type": "execute_result",
          "data": {
            "text/plain": [
              "[2, 3, 4, 5]"
            ]
          },
          "metadata": {},
          "execution_count": 32
        }
      ]
    },
    {
      "cell_type": "code",
      "source": [
        "#list compres:\n",
        "\n",
        "l  = []\n",
        "\n",
        "for i in range (1,11):\n",
        "  l.append(i)\n",
        "l"
      ],
      "metadata": {
        "colab": {
          "base_uri": "https://localhost:8080/"
        },
        "id": "8UsUXND86Pv6",
        "outputId": "2b178394-e18d-4ce4-f724-8dd603b8e0b6"
      },
      "execution_count": null,
      "outputs": [
        {
          "output_type": "execute_result",
          "data": {
            "text/plain": [
              "[1, 2, 3, 4, 5, 6, 7, 8, 9, 10]"
            ]
          },
          "metadata": {},
          "execution_count": 34
        }
      ]
    },
    {
      "cell_type": "code",
      "source": [
        "l = [i for i in range(1,11)]\n",
        "l"
      ],
      "metadata": {
        "colab": {
          "base_uri": "https://localhost:8080/"
        },
        "id": "RCD3zOWl66PD",
        "outputId": "b3a5a5d3-d931-44f4-e763-baded3b07de7"
      },
      "execution_count": null,
      "outputs": [
        {
          "output_type": "execute_result",
          "data": {
            "text/plain": [
              "[1, 2, 3, 4, 5, 6, 7, 8, 9, 10]"
            ]
          },
          "metadata": {},
          "execution_count": 38
        }
      ]
    },
    {
      "cell_type": "code",
      "source": [
        "l = [1,2,3,4]\n",
        "l2 = [3,4,5,6]\n",
        "\n",
        "print(l+l2)"
      ],
      "metadata": {
        "colab": {
          "base_uri": "https://localhost:8080/"
        },
        "id": "RtVvaJtg7OSz",
        "outputId": "3280be92-9a58-4c6f-fd8c-f50c2d0dbe50"
      },
      "execution_count": null,
      "outputs": [
        {
          "output_type": "stream",
          "name": "stdout",
          "text": [
            "[1, 2, 3, 4, 3, 4, 5, 6]\n"
          ]
        }
      ]
    },
    {
      "cell_type": "code",
      "source": [
        "# 1.ordered\n",
        "# 2.mutable\n",
        "# 3. can have duplicates\n",
        "# 4. dynamic\n"
      ],
      "metadata": {
        "id": "sLyxGbnU7grW"
      },
      "execution_count": null,
      "outputs": []
    },
    {
      "cell_type": "code",
      "source": [
        "#tuple \n",
        "\n",
        "# 1.ordered\n",
        "# 2.immutable\n",
        "# 3.allow duplicates\n",
        "\n",
        "\n"
      ],
      "metadata": {
        "id": "uXbAi_Gk7gue"
      },
      "execution_count": null,
      "outputs": []
    },
    {
      "cell_type": "code",
      "source": [
        "t = (1,2,3,4,5,6)\n",
        "t"
      ],
      "metadata": {
        "colab": {
          "base_uri": "https://localhost:8080/"
        },
        "id": "xLwBYX7w7gxH",
        "outputId": "ac659564-2257-44dd-a6c5-9a4afccda9b9"
      },
      "execution_count": null,
      "outputs": [
        {
          "output_type": "execute_result",
          "data": {
            "text/plain": [
              "(1, 2, 3, 4, 5, 6)"
            ]
          },
          "metadata": {},
          "execution_count": 40
        }
      ]
    },
    {
      "cell_type": "code",
      "source": [
        "print(type(t))"
      ],
      "metadata": {
        "colab": {
          "base_uri": "https://localhost:8080/"
        },
        "id": "zdSmp9tV7g1G",
        "outputId": "14e8b665-a04e-40c2-ab89-8d0d3d1b6304"
      },
      "execution_count": null,
      "outputs": [
        {
          "output_type": "stream",
          "name": "stdout",
          "text": [
            "<class 'tuple'>\n"
          ]
        }
      ]
    },
    {
      "cell_type": "code",
      "source": [
        "t2 =('hello')\n",
        "\n",
        "t2"
      ],
      "metadata": {
        "colab": {
          "base_uri": "https://localhost:8080/",
          "height": 35
        },
        "id": "FVBchdeE7g4p",
        "outputId": "67a3145b-1437-4c9e-8284-7588206b8a72"
      },
      "execution_count": null,
      "outputs": [
        {
          "output_type": "execute_result",
          "data": {
            "text/plain": [
              "'hello'"
            ],
            "application/vnd.google.colaboratory.intrinsic+json": {
              "type": "string"
            }
          },
          "metadata": {},
          "execution_count": 42
        }
      ]
    },
    {
      "cell_type": "code",
      "source": [
        "t[0]\n",
        "t[0:3]"
      ],
      "metadata": {
        "colab": {
          "base_uri": "https://localhost:8080/"
        },
        "id": "2ZQQl6uh8kXE",
        "outputId": "e0a26128-9fb0-49cc-8e0a-cc516cf502ab"
      },
      "execution_count": null,
      "outputs": [
        {
          "output_type": "execute_result",
          "data": {
            "text/plain": [
              "(1, 2, 3)"
            ]
          },
          "metadata": {},
          "execution_count": 45
        }
      ]
    },
    {
      "cell_type": "code",
      "source": [
        "#editing is not allowed\n",
        "#adding items are not allowed"
      ],
      "metadata": {
        "id": "vkRHpn-u8sPq"
      },
      "execution_count": null,
      "outputs": []
    },
    {
      "cell_type": "code",
      "source": [
        "t3  = (1,2,4,55,6,33,22)\n",
        "len(t3)\n",
        "min(t3)\n",
        "max(t3)\n",
        "sorted(t3,reverse = True)\n"
      ],
      "metadata": {
        "colab": {
          "base_uri": "https://localhost:8080/"
        },
        "id": "i-EoF04Q9eCp",
        "outputId": "88696fc7-69f2-4bd7-de50-1c9453be1672"
      },
      "execution_count": null,
      "outputs": [
        {
          "output_type": "execute_result",
          "data": {
            "text/plain": [
              "[55, 33, 22, 6, 4, 2, 1]"
            ]
          },
          "metadata": {},
          "execution_count": 50
        }
      ]
    },
    {
      "cell_type": "code",
      "source": [
        "#operations\n",
        "\n",
        "t1 = (91,2,34,5,5,55,5)\n",
        "t3  = (1,2,4,55,6,33,22)"
      ],
      "metadata": {
        "id": "xEJt6_Kj9eFd"
      },
      "execution_count": null,
      "outputs": []
    },
    {
      "cell_type": "code",
      "source": [
        "#\n",
        "t1.index(34)\n",
        "# t1.count(5)\n"
      ],
      "metadata": {
        "colab": {
          "base_uri": "https://localhost:8080/"
        },
        "id": "7qFgMZad9eKE",
        "outputId": "643754f0-8bd7-4c24-d3af-abc833283958"
      },
      "execution_count": null,
      "outputs": [
        {
          "output_type": "execute_result",
          "data": {
            "text/plain": [
              "2"
            ]
          },
          "metadata": {},
          "execution_count": 65
        }
      ]
    },
    {
      "cell_type": "code",
      "source": [
        "#diff b/w tuple and list\n",
        "# 1. syntax\n",
        "# 2. mutability\n",
        "# 3. speed (tuple is faster)\n",
        "# 4. memory (tuple takes less space)"
      ],
      "metadata": {
        "id": "cl-cCssL9eNK"
      },
      "execution_count": null,
      "outputs": []
    },
    {
      "cell_type": "code",
      "source": [
        "#unpacking\n",
        "\n",
        "a , b,c = (4,5,6)\n",
        "\n",
        "print(a,b,c)"
      ],
      "metadata": {
        "colab": {
          "base_uri": "https://localhost:8080/"
        },
        "id": "6mb59ncM_xik",
        "outputId": "c3f9f0a2-ee91-4b77-c087-482e290d7dc5"
      },
      "execution_count": null,
      "outputs": [
        {
          "output_type": "stream",
          "name": "stdout",
          "text": [
            "4 5 6\n"
          ]
        }
      ]
    },
    {
      "cell_type": "code",
      "source": [
        "#sets\n",
        "# 1. unorded\n",
        "# 2. mutable\n",
        "# 3. no duplicates are allowed"
      ],
      "metadata": {
        "id": "a9epHWDV_xmw"
      },
      "execution_count": null,
      "outputs": []
    },
    {
      "cell_type": "code",
      "source": [
        "s = {1,2,3,4,5}\n",
        "\n",
        "print(s)\n",
        "print(type(s))"
      ],
      "metadata": {
        "colab": {
          "base_uri": "https://localhost:8080/"
        },
        "id": "HB1u4fKF_xqn",
        "outputId": "9f7155cd-2866-457a-ff67-a70c6f016a41"
      },
      "execution_count": null,
      "outputs": [
        {
          "output_type": "stream",
          "name": "stdout",
          "text": [
            "{1, 2, 3, 4, 5}\n",
            "<class 'set'>\n"
          ]
        }
      ]
    },
    {
      "cell_type": "code",
      "source": [
        "s1 = {1,2,3,4,5,6}\n",
        "\n",
        "s2 = {7,8,9,1}\n",
        "\n",
        "s1 | s2"
      ],
      "metadata": {
        "colab": {
          "base_uri": "https://localhost:8080/"
        },
        "id": "1cUYWSVU_xto",
        "outputId": "a2f0c6d2-09c7-46e8-bcf7-9242bcbc789f"
      },
      "execution_count": null,
      "outputs": [
        {
          "output_type": "execute_result",
          "data": {
            "text/plain": [
              "{1, 2, 3, 4, 5, 6, 7, 8, 9}"
            ]
          },
          "metadata": {},
          "execution_count": 73
        }
      ]
    },
    {
      "cell_type": "code",
      "source": [
        "s1 & s2"
      ],
      "metadata": {
        "colab": {
          "base_uri": "https://localhost:8080/"
        },
        "id": "b0WbIomlAzrg",
        "outputId": "2e257ce2-4bec-4bfd-bc12-88249f473264"
      },
      "execution_count": null,
      "outputs": [
        {
          "output_type": "execute_result",
          "data": {
            "text/plain": [
              "{1}"
            ]
          },
          "metadata": {},
          "execution_count": 74
        }
      ]
    },
    {
      "cell_type": "code",
      "source": [
        "s1 - s2\n",
        "\n",
        "s2-s1"
      ],
      "metadata": {
        "colab": {
          "base_uri": "https://localhost:8080/"
        },
        "id": "NoFE-B_XBSPY",
        "outputId": "f4e672af-6625-451f-ca94-13dda7936dd6"
      },
      "execution_count": null,
      "outputs": [
        {
          "output_type": "execute_result",
          "data": {
            "text/plain": [
              "{7, 8, 9}"
            ]
          },
          "metadata": {},
          "execution_count": 78
        }
      ]
    },
    {
      "cell_type": "code",
      "source": [
        "for i in s1:\n",
        "  print(i)"
      ],
      "metadata": {
        "colab": {
          "base_uri": "https://localhost:8080/"
        },
        "id": "A7os3utFBZXo",
        "outputId": "d734c304-8631-480f-84ba-31efc127b3e2"
      },
      "execution_count": null,
      "outputs": [
        {
          "output_type": "stream",
          "name": "stdout",
          "text": [
            "1\n",
            "2\n",
            "3\n",
            "4\n",
            "5\n",
            "6\n"
          ]
        }
      ]
    },
    {
      "cell_type": "code",
      "source": [
        "min(s1)"
      ],
      "metadata": {
        "colab": {
          "base_uri": "https://localhost:8080/"
        },
        "id": "lN5X5P8rBiWq",
        "outputId": "4259c15f-d556-4054-f1e3-b4e0d9250c23"
      },
      "execution_count": null,
      "outputs": [
        {
          "output_type": "execute_result",
          "data": {
            "text/plain": [
              "1"
            ]
          },
          "metadata": {},
          "execution_count": 80
        }
      ]
    },
    {
      "cell_type": "code",
      "source": [
        "s = {i for i in range(1,11) if i>5}"
      ],
      "metadata": {
        "id": "n4l4JMB7B4K4"
      },
      "execution_count": null,
      "outputs": []
    },
    {
      "cell_type": "code",
      "source": [
        "s"
      ],
      "metadata": {
        "colab": {
          "base_uri": "https://localhost:8080/"
        },
        "id": "rXNkcPV8CElQ",
        "outputId": "fe12296f-9fd4-44ce-80e1-52ddeb70bb69"
      },
      "execution_count": null,
      "outputs": [
        {
          "output_type": "execute_result",
          "data": {
            "text/plain": [
              "{6, 7, 8, 9, 10}"
            ]
          },
          "metadata": {},
          "execution_count": 84
        }
      ]
    },
    {
      "cell_type": "code",
      "source": [
        "#Dictionary\n",
        "\n",
        "# 1. mutable\n",
        "# 2. indexing has no meaning\n",
        "# 3. keys can not be duplicate\n",
        "\n"
      ],
      "metadata": {
        "id": "U-vgSP5HCFhq"
      },
      "execution_count": null,
      "outputs": []
    },
    {
      "cell_type": "code",
      "source": [
        "d  = {'name': 'avi','cls':'2','age':20}    # 1D "
      ],
      "metadata": {
        "id": "cF-JrdOEDOTs"
      },
      "execution_count": null,
      "outputs": []
    },
    {
      "cell_type": "code",
      "source": [
        "print(type(d))"
      ],
      "metadata": {
        "colab": {
          "base_uri": "https://localhost:8080/"
        },
        "id": "zqC8eKGNDaki",
        "outputId": "a0003744-e113-492d-c803-c174e57a4868"
      },
      "execution_count": null,
      "outputs": [
        {
          "output_type": "stream",
          "name": "stdout",
          "text": [
            "<class 'dict'>\n"
          ]
        }
      ]
    },
    {
      "cell_type": "code",
      "source": [
        "student = {\n",
        "            'name':'avi',\n",
        "           'cls':2,\n",
        "           'subjects':{'maths':39,'eng':40,'sci':98}\n",
        "           \n",
        "}\n",
        "\n",
        "#2D"
      ],
      "metadata": {
        "id": "Wy7OoQcxDhj5"
      },
      "execution_count": null,
      "outputs": []
    },
    {
      "cell_type": "code",
      "source": [
        "print(student)"
      ],
      "metadata": {
        "colab": {
          "base_uri": "https://localhost:8080/"
        },
        "id": "tpfovyFSEJQf",
        "outputId": "887a0cb1-94d1-4e80-e61c-148090e07007"
      },
      "execution_count": null,
      "outputs": [
        {
          "output_type": "stream",
          "name": "stdout",
          "text": [
            "{'name': 'avi', 'cls': 2, 'subjects': {'maths': 39, 'eng': 40, 'sci': 98}}\n"
          ]
        }
      ]
    },
    {
      "cell_type": "code",
      "source": [
        "student['subjects']['maths']"
      ],
      "metadata": {
        "colab": {
          "base_uri": "https://localhost:8080/"
        },
        "id": "yet5uK9-EKrw",
        "outputId": "c2f9550b-9fb8-4769-aa6c-6584b21b0325"
      },
      "execution_count": null,
      "outputs": [
        {
          "output_type": "execute_result",
          "data": {
            "text/plain": [
              "39"
            ]
          },
          "metadata": {},
          "execution_count": 93
        }
      ]
    },
    {
      "cell_type": "code",
      "source": [
        "student['gender'] = 'male'"
      ],
      "metadata": {
        "id": "lnj3QJ86EU62"
      },
      "execution_count": null,
      "outputs": []
    },
    {
      "cell_type": "code",
      "source": [
        "student"
      ],
      "metadata": {
        "colab": {
          "base_uri": "https://localhost:8080/"
        },
        "id": "7z4_O0FvEU9m",
        "outputId": "24e1b79e-d17c-4fcb-aada-59fcc307b28a"
      },
      "execution_count": null,
      "outputs": [
        {
          "output_type": "execute_result",
          "data": {
            "text/plain": [
              "{'name': 'avi',\n",
              " 'cls': 2,\n",
              " 'subjects': {'maths': 39, 'eng': 40, 'sci': 98},\n",
              " 'gender': 'male'}"
            ]
          },
          "metadata": {},
          "execution_count": 95
        }
      ]
    },
    {
      "cell_type": "code",
      "source": [
        "student.pop('name')"
      ],
      "metadata": {
        "colab": {
          "base_uri": "https://localhost:8080/",
          "height": 35
        },
        "id": "pZYCQ9gzEVCC",
        "outputId": "077b32eb-3370-4f47-aa8e-db841c430d5f"
      },
      "execution_count": null,
      "outputs": [
        {
          "output_type": "execute_result",
          "data": {
            "text/plain": [
              "'avi'"
            ],
            "application/vnd.google.colaboratory.intrinsic+json": {
              "type": "string"
            }
          },
          "metadata": {},
          "execution_count": 97
        }
      ]
    },
    {
      "cell_type": "code",
      "source": [],
      "metadata": {
        "colab": {
          "base_uri": "https://localhost:8080/"
        },
        "id": "CLCSBrT5EVFO",
        "outputId": "926dfe05-fe31-42f2-ac55-38565da71a5a"
      },
      "execution_count": null,
      "outputs": [
        {
          "output_type": "execute_result",
          "data": {
            "text/plain": [
              "{'cls': 2, 'subjects': {'maths': 39, 'eng': 40, 'sci': 98}, 'gender': 'male'}"
            ]
          },
          "metadata": {},
          "execution_count": 98
        }
      ]
    },
    {
      "cell_type": "code",
      "source": [
        "d  = {'name': 'avi','cls':2,'age':20}\n",
        "for i in d:\n",
        "  print(i,d[i])"
      ],
      "metadata": {
        "colab": {
          "base_uri": "https://localhost:8080/"
        },
        "id": "GyJio2QlFgLu",
        "outputId": "1f96d866-c284-4ced-93bc-f386ccad07a7"
      },
      "execution_count": null,
      "outputs": [
        {
          "output_type": "stream",
          "name": "stdout",
          "text": [
            "name avi\n",
            "cls 2\n",
            "age 20\n"
          ]
        }
      ]
    },
    {
      "cell_type": "code",
      "source": [
        "print(d.keys())"
      ],
      "metadata": {
        "colab": {
          "base_uri": "https://localhost:8080/"
        },
        "id": "IifCQiwrFttH",
        "outputId": "3a959ed7-99eb-452e-d484-fa8a78ba81c2"
      },
      "execution_count": null,
      "outputs": [
        {
          "output_type": "stream",
          "name": "stdout",
          "text": [
            "dict_keys(['name', 'cls', 'age'])\n"
          ]
        }
      ]
    },
    {
      "cell_type": "code",
      "source": [
        "print(d.values())"
      ],
      "metadata": {
        "colab": {
          "base_uri": "https://localhost:8080/"
        },
        "id": "N9uWvNTOGGDm",
        "outputId": "57ee3981-4a01-46f7-ef8e-e511ce80e19c"
      },
      "execution_count": null,
      "outputs": [
        {
          "output_type": "stream",
          "name": "stdout",
          "text": [
            "dict_values(['avi', 2, 20])\n"
          ]
        }
      ]
    },
    {
      "cell_type": "code",
      "source": [
        "print(d.items())"
      ],
      "metadata": {
        "colab": {
          "base_uri": "https://localhost:8080/"
        },
        "id": "Up0VYgUfGJZ_",
        "outputId": "1bf73f6f-80bd-426b-d2a0-64e53b35d95d"
      },
      "execution_count": null,
      "outputs": [
        {
          "output_type": "stream",
          "name": "stdout",
          "text": [
            "dict_items([('name', 'avi'), ('cls', 2), ('age', 20)])\n"
          ]
        }
      ]
    },
    {
      "cell_type": "code",
      "source": [
        "a = {i:i**2 for i in range(1,11)}"
      ],
      "metadata": {
        "id": "yWKwmdyCGM4e"
      },
      "execution_count": null,
      "outputs": []
    },
    {
      "cell_type": "code",
      "source": [
        "a"
      ],
      "metadata": {
        "colab": {
          "base_uri": "https://localhost:8080/"
        },
        "id": "y-5mMPXfGe3X",
        "outputId": "e6aa4aa6-dfa8-42d2-85c4-4a1a0d773da6"
      },
      "execution_count": null,
      "outputs": [
        {
          "output_type": "execute_result",
          "data": {
            "text/plain": [
              "{1: 1, 2: 4, 3: 9, 4: 16, 5: 25, 6: 36, 7: 49, 8: 64, 9: 81, 10: 100}"
            ]
          },
          "metadata": {},
          "execution_count": 108
        }
      ]
    },
    {
      "cell_type": "code",
      "source": [
        "print(type(a))"
      ],
      "metadata": {
        "colab": {
          "base_uri": "https://localhost:8080/"
        },
        "id": "wGNFAI0KGflQ",
        "outputId": "ee1463bf-1e94-4ecd-c413-c180f1785839"
      },
      "execution_count": null,
      "outputs": [
        {
          "output_type": "stream",
          "name": "stdout",
          "text": [
            "<class 'dict'>\n"
          ]
        }
      ]
    },
    {
      "cell_type": "code",
      "source": [
        "'''\n",
        "basics data types\n",
        "list \n",
        "tuple \n",
        "sets\n",
        "dict\n",
        "'''"
      ],
      "metadata": {
        "id": "2LnbHQ-hGikH"
      },
      "execution_count": null,
      "outputs": []
    },
    {
      "cell_type": "code",
      "source": [
        "sklearn\n",
        "pytorch/tensorflow"
      ],
      "metadata": {
        "id": "31dRIeEmHM3D"
      },
      "execution_count": null,
      "outputs": []
    },
    {
      "cell_type": "code",
      "source": [],
      "metadata": {
        "id": "Drn3eStSHQ1O"
      },
      "execution_count": null,
      "outputs": []
    },
    {
      "cell_type": "code",
      "source": [],
      "metadata": {
        "id": "qpU9ivT4HU4l"
      },
      "execution_count": null,
      "outputs": []
    }
  ]
}