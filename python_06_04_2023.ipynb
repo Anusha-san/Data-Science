{
  "nbformat": 4,
  "nbformat_minor": 0,
  "metadata": {
    "colab": {
      "provenance": [],
      "include_colab_link": true
    },
    "kernelspec": {
      "name": "python3",
      "display_name": "Python 3"
    },
    "language_info": {
      "name": "python"
    }
  },
  "cells": [
    {
      "cell_type": "markdown",
      "metadata": {
        "id": "view-in-github",
        "colab_type": "text"
      },
      "source": [
        "<a href=\"https://colab.research.google.com/github/Anusha-san/Data-Science/blob/main/python_06_04_2023.ipynb\" target=\"_parent\"><img src=\"https://colab.research.google.com/assets/colab-badge.svg\" alt=\"Open In Colab\"/></a>"
      ]
    },
    {
      "cell_type": "code",
      "execution_count": null,
      "metadata": {
        "colab": {
          "base_uri": "https://localhost:8080/"
        },
        "id": "sjCWCMgo9jHK",
        "outputId": "2bf9fca1-17aa-477e-d9fa-3ff3f31e4e70"
      },
      "outputs": [
        {
          "output_type": "stream",
          "name": "stdout",
          "text": [
            "hello\n"
          ]
        }
      ],
      "source": [
        "print('hello')"
      ]
    },
    {
      "cell_type": "code",
      "source": [
        "#loop\n",
        "\n",
        "#1. while loop\n",
        "\n",
        "i = 1\n",
        "\n",
        "while i<11:\n",
        "  print(i)\n",
        "  i +=1\n"
      ],
      "metadata": {
        "colab": {
          "base_uri": "https://localhost:8080/"
        },
        "id": "mEwWGLHE9szu",
        "outputId": "64ccace5-2e1d-4975-aea4-9392b8dfe9d2"
      },
      "execution_count": null,
      "outputs": [
        {
          "output_type": "stream",
          "name": "stdout",
          "text": [
            "1\n",
            "2\n",
            "3\n",
            "4\n",
            "5\n",
            "6\n",
            "7\n",
            "8\n",
            "9\n",
            "10\n"
          ]
        }
      ]
    },
    {
      "cell_type": "code",
      "source": [
        "#2. for loop\n",
        "\n",
        "for i in range(1,11):\n",
        "  print(i)\n",
        "\n",
        "a = 'hello'\n",
        "for i in a:\n",
        "  print(i)"
      ],
      "metadata": {
        "id": "KJCykt5FBgnO"
      },
      "execution_count": null,
      "outputs": []
    },
    {
      "cell_type": "code",
      "source": [
        "#loop control statements:\n",
        "# 1. break\n",
        "# 2 . continue\n",
        "# 3. pass\n"
      ],
      "metadata": {
        "id": "q1XrFUUSBzVF"
      },
      "execution_count": null,
      "outputs": []
    },
    {
      "cell_type": "code",
      "source": [
        "for i in range(1,10):\n",
        "  if i == 5:\n",
        "    break\n",
        "  print(i)"
      ],
      "metadata": {
        "colab": {
          "base_uri": "https://localhost:8080/"
        },
        "id": "zeC6qTd-Cdqd",
        "outputId": "7e941123-395a-410b-f57c-f9cfb946a3fb"
      },
      "execution_count": null,
      "outputs": [
        {
          "output_type": "stream",
          "name": "stdout",
          "text": [
            "1\n",
            "2\n",
            "3\n",
            "4\n"
          ]
        }
      ]
    },
    {
      "cell_type": "code",
      "source": [
        "for i in range(1,10):\n",
        "  if i == 5:\n",
        "    continue\n",
        "  print(i)\n"
      ],
      "metadata": {
        "colab": {
          "base_uri": "https://localhost:8080/"
        },
        "id": "6GNwzAlvCdtn",
        "outputId": "c59c5517-b8e9-410c-972e-47fe056d6ecd"
      },
      "execution_count": null,
      "outputs": [
        {
          "output_type": "stream",
          "name": "stdout",
          "text": [
            "1\n",
            "2\n",
            "3\n",
            "4\n",
            "6\n",
            "7\n",
            "8\n",
            "9\n"
          ]
        }
      ]
    },
    {
      "cell_type": "code",
      "source": [
        "for i in range(1,10):\n",
        "  pass\n",
        "  "
      ],
      "metadata": {
        "id": "3_m3KZM8CdxT"
      },
      "execution_count": null,
      "outputs": []
    },
    {
      "cell_type": "code",
      "source": [
        "#functions\n",
        "# 1. resuable \n",
        "type:\n",
        "# 1. user define\n",
        "# 2 . built-in(len)"
      ],
      "metadata": {
        "id": "olz6vgUwCdzm"
      },
      "execution_count": null,
      "outputs": []
    },
    {
      "cell_type": "code",
      "source": [
        "def is_even(i):\n",
        "  x  =  i%2==0\n",
        "  return x\n",
        "\n",
        "is_even(3)\n"
      ],
      "metadata": {
        "colab": {
          "base_uri": "https://localhost:8080/"
        },
        "id": "vH1Ay1vyDqYa",
        "outputId": "c591ddfb-e307-43f4-f7c8-f2d9ce2297c0"
      },
      "execution_count": null,
      "outputs": [
        {
          "output_type": "execute_result",
          "data": {
            "text/plain": [
              "False"
            ]
          },
          "metadata": {},
          "execution_count": 13
        }
      ]
    },
    {
      "cell_type": "code",
      "source": [
        "def is_even(num): #function define\n",
        "  if num %2 == 0:\n",
        "    return 'even'\n",
        "  else:\n",
        "    return 'odd'\n",
        "is_even(10) #function call "
      ],
      "metadata": {
        "colab": {
          "base_uri": "https://localhost:8080/",
          "height": 35
        },
        "id": "xtQOsXmmDqbs",
        "outputId": "8e3dbc10-b4ad-446d-a611-f59a3e25469c"
      },
      "execution_count": null,
      "outputs": [
        {
          "output_type": "execute_result",
          "data": {
            "text/plain": [
              "'even'"
            ],
            "application/vnd.google.colaboratory.intrinsic+json": {
              "type": "string"
            }
          },
          "metadata": {},
          "execution_count": 15
        }
      ]
    },
    {
      "cell_type": "code",
      "source": [
        "# types of argument\n",
        "\n",
        "#1. default arugument\n",
        "\n",
        "def power(a=3,b=2):\n",
        "  return a**b\n",
        "power()"
      ],
      "metadata": {
        "colab": {
          "base_uri": "https://localhost:8080/"
        },
        "id": "wHxmlO_nDqec",
        "outputId": "7e952e02-4257-4675-beb5-5bc2be37d00a"
      },
      "execution_count": null,
      "outputs": [
        {
          "output_type": "execute_result",
          "data": {
            "text/plain": [
              "6"
            ]
          },
          "metadata": {},
          "execution_count": 22
        }
      ]
    },
    {
      "cell_type": "code",
      "source": [
        "#2. positional argument\n",
        "\n",
        "\n",
        "def power(a=1,b=1):\n",
        "  return a**b\n",
        "power(2,3)\n"
      ],
      "metadata": {
        "colab": {
          "base_uri": "https://localhost:8080/"
        },
        "id": "CdywtL5nDqjb",
        "outputId": "07e532ea-1685-4754-fe46-2e676528cf36"
      },
      "execution_count": null,
      "outputs": [
        {
          "output_type": "execute_result",
          "data": {
            "text/plain": [
              "8"
            ]
          },
          "metadata": {},
          "execution_count": 23
        }
      ]
    },
    {
      "cell_type": "code",
      "source": [
        "# 3. keyword argument\n",
        "def power(a,b):\n",
        "  return a**b\n",
        "power(a=2,b=3)  #keyword\n"
      ],
      "metadata": {
        "colab": {
          "base_uri": "https://localhost:8080/"
        },
        "id": "J4lxa45KHTl9",
        "outputId": "14c2fcd7-e633-4512-b156-c5045133c11e"
      },
      "execution_count": null,
      "outputs": [
        {
          "output_type": "execute_result",
          "data": {
            "text/plain": [
              "8"
            ]
          },
          "metadata": {},
          "execution_count": 24
        }
      ]
    },
    {
      "cell_type": "code",
      "source": [
        "#special python keywords\n",
        "\n",
        "# *args and **kwargs\n",
        "\n",
        "def multi(*args):\n",
        "  prod = 1\n",
        "  for i in args:\n",
        "    prod = prod *i\n",
        "  return prod\n",
        "\n",
        "multi(1,2,3,4,5,6,7,8,9,10)\n"
      ],
      "metadata": {
        "colab": {
          "base_uri": "https://localhost:8080/"
        },
        "id": "wPAnt7qkH03v",
        "outputId": "136ffd28-48d7-46bf-9587-3eb103b1953f"
      },
      "execution_count": null,
      "outputs": [
        {
          "output_type": "execute_result",
          "data": {
            "text/plain": [
              "3628800"
            ]
          },
          "metadata": {},
          "execution_count": 39
        }
      ]
    },
    {
      "cell_type": "code",
      "source": [],
      "metadata": {
        "id": "cyKI-EaxWTQH"
      },
      "execution_count": null,
      "outputs": []
    },
    {
      "cell_type": "code",
      "source": [
        "def nation(**kwargs):\n",
        "  for(key,value) in kwargs.items():\n",
        "    print(key,'-',value)\n",
        "\n",
        "nation(asia='india',europe= 'london')"
      ],
      "metadata": {
        "colab": {
          "base_uri": "https://localhost:8080/"
        },
        "id": "U6-l8kfsJcUA",
        "outputId": "1ba1fbe8-1076-44fa-e444-88a915d358a4"
      },
      "execution_count": null,
      "outputs": [
        {
          "output_type": "stream",
          "name": "stdout",
          "text": [
            "asia - india\n",
            "europe - london\n"
          ]
        }
      ]
    },
    {
      "cell_type": "code",
      "source": [
        "#lambda functions\n",
        "# 1. small function\n",
        "# 2. one line function\n",
        "# 3. no use in resuable\n",
        "\n",
        "a = lambda x:x**2\n",
        "\n",
        "a(5)"
      ],
      "metadata": {
        "colab": {
          "base_uri": "https://localhost:8080/"
        },
        "id": "8YrPiR34K0gH",
        "outputId": "b44e08b1-1233-4525-c687-e27a8494fbd1"
      },
      "execution_count": null,
      "outputs": [
        {
          "output_type": "execute_result",
          "data": {
            "text/plain": [
              "25"
            ]
          },
          "metadata": {},
          "execution_count": 29
        }
      ]
    },
    {
      "cell_type": "markdown",
      "source": [],
      "metadata": {
        "id": "RffbXfqyTXr2"
      }
    },
    {
      "cell_type": "code",
      "source": [
        "# diff b/w lamba and normal function\n",
        "# 1.no need of defination\n",
        "# 2. no return value\n",
        "# 3. written in one line\n",
        "# 4. not reusable"
      ],
      "metadata": {
        "id": "hx37QxW0LyNm"
      },
      "execution_count": null,
      "outputs": []
    },
    {
      "cell_type": "code",
      "source": [
        "for i in range(1,10):\n",
        "  for j in range(i,10):\n",
        "    print(j,end=' ')\n",
        "  print()"
      ],
      "metadata": {
        "colab": {
          "base_uri": "https://localhost:8080/"
        },
        "id": "HoKbAbQ-MwwR",
        "outputId": "d5b292b4-f186-4fb5-a76d-6f2a265de1f3"
      },
      "execution_count": null,
      "outputs": [
        {
          "output_type": "stream",
          "name": "stdout",
          "text": [
            "1 2 3 4 5 6 7 8 9 \n",
            "2 3 4 5 6 7 8 9 \n",
            "3 4 5 6 7 8 9 \n",
            "4 5 6 7 8 9 \n",
            "5 6 7 8 9 \n",
            "6 7 8 9 \n",
            "7 8 9 \n",
            "8 9 \n",
            "9 \n"
          ]
        }
      ]
    },
    {
      "cell_type": "code",
      "source": [
        "# 1. basics\n",
        "# 2. data types\n",
        "# 3. containers\n",
        "# 4. loops\n",
        "# 5. control statement\n",
        "# 6. function\n",
        "# 7. lambda function\n",
        "# 8. spl keywords(*args and **kwargs)"
      ],
      "metadata": {
        "id": "26s38MJBMwzI"
      },
      "execution_count": null,
      "outputs": []
    },
    {
      "cell_type": "code",
      "source": [
        "# OOPS"
      ],
      "metadata": {
        "id": "wqD6Ndh2OSTA"
      },
      "execution_count": null,
      "outputs": []
    },
    {
      "cell_type": "code",
      "source": [
        "a  = 10\n",
        "\n",
        "print(type(a))"
      ],
      "metadata": {
        "colab": {
          "base_uri": "https://localhost:8080/"
        },
        "id": "_cxbvSFdOcAE",
        "outputId": "a067b269-2c4c-4ccb-f1b4-3d3bbd9ebbc3"
      },
      "execution_count": null,
      "outputs": [
        {
          "output_type": "stream",
          "name": "stdout",
          "text": [
            "<class 'int'>\n"
          ]
        }
      ]
    },
    {
      "cell_type": "code",
      "source": [
        "# object and class\n",
        "\n",
        "# class- blueprint\n",
        "# object - House\n",
        "\n",
        "# object properties\n",
        "# 1. id\n",
        "# 2. Attribute\n",
        "# 3. behaviour\n",
        "\n",
        "# In python everything is object"
      ],
      "metadata": {
        "id": "v5SEHAtmPbxn"
      },
      "execution_count": null,
      "outputs": []
    },
    {
      "cell_type": "code",
      "source": [
        "#  OOPS\n",
        "# 1. class and object\n",
        "# 2. inheritance\n",
        "# 3. ploymorphism\n",
        "# 4. abstraction\n",
        "# 5. Encapsulation"
      ],
      "metadata": {
        "id": "rAnc4w75RQ1m"
      },
      "execution_count": null,
      "outputs": []
    },
    {
      "cell_type": "code",
      "source": [
        " tupl=(5,3,1,9,0)\n",
        "\n",
        "print(tupl[:-1])\n",
        "print(tupl[0:5])\n",
        "print(tupl[0:4])\n",
        "print(tupl[-4:])"
      ],
      "metadata": {
        "colab": {
          "base_uri": "https://localhost:8080/"
        },
        "id": "DDmg5q9mWW5W",
        "outputId": "f460a0b4-b811-487c-e934-928eefdbab10"
      },
      "execution_count": null,
      "outputs": [
        {
          "output_type": "stream",
          "name": "stdout",
          "text": [
            "(5, 3, 1, 9)\n",
            "(5, 3, 1, 9, 0)\n",
            "(5, 3, 1, 9)\n",
            "(3, 1, 9, 0)\n"
          ]
        }
      ]
    },
    {
      "cell_type": "code",
      "source": [],
      "metadata": {
        "id": "Pl9CQd42WaYl"
      },
      "execution_count": null,
      "outputs": []
    }
  ]
}